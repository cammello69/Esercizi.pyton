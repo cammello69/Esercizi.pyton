{
  "cells": [
    {
      "cell_type": "markdown",
      "metadata": {
        "id": "inJF5uifNBg0"
      },
      "source": [
        "# Esercizi"
      ]
    },
    {
      "cell_type": "code",
      "execution_count": null,
      "metadata": {
        "id": "EFiuNikwM8hY"
      },
      "outputs": [],
      "source": [
        "# Es 7.1: Scrivi la funzione cubo(n) che stampi a schermo un quadrato di lato nxn formato utilizzando il carattere *\n",
        "#         Esempio:                       8 ->        * - - - - - - *     2 ->   * *\n",
        "#                                                  / |           / |          * * *\n",
        "#                                                /   |         /   |          * *\n",
        "#                                              /     |       /     |\n",
        "#                                            * - - - - - - *       |\n",
        "#                                            |       |     |       |\n",
        "#                                            |       |     |       |\n",
        "#                                            |       * - - | - - - *\n",
        "#                                            |     /       |     /\n",
        "#                                            |   /         |   /\n",
        "#                                            | /           | /\n",
        "#                                            * - - - - - - *\n",
        "def cubo(n):\n",
        "    for verticale in range(int(n*1.5)):\n",
        "        if verticale == 0:\n",
        "            for orizzontale in range(n):\n",
        "                print(\" \")\n",
        "            print(\"*\", end = \" \")\n",
        "            for orizzontale in range(n-2):\n",
        "                print(\"-\", end = \" \")\n",
        "            print(\"*\")\n",
        "        if verticale > 0 end verticale < n/2\n",
        "        for orizzontale in range(n-2):\n",
        "            print(\" \")\n",
        "        print(\"/\")\n",
        "        for orizzontale in range(n-(n-1))\n",
        "        \n",
        "\n",
        "\n",
        "            \n",
        "\n",
        "\n",
        "\n",
        "\n"
      ]
    }
  ],
  "metadata": {
    "colab": {
      "provenance": []
    },
    "kernelspec": {
      "display_name": "Python 3",
      "name": "python3"
    },
    "language_info": {
      "name": "python"
    }
  },
  "nbformat": 4,
  "nbformat_minor": 0
}
