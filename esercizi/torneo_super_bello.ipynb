{
 "cells": [
  {
   "cell_type": "code",
   "execution_count": null,
   "metadata": {},
   "outputs": [],
   "source": [
    "# Si ipotizzi di voler organizzare un torneo di uno sport a due squadre (calcio, pallavolo, beach ...)\n",
    "# Si crei una funzione girone(squadre) che prenda in ingresso una lista di squadre e restituisca la lista di partite del girone\n",
    "# esempio: torneo([\"A\",\"B\",\"C\"])  ->  [(\"A\",\"B\"), (\"A\",\"C\"), (\"B\",\"C\")] \n",
    "\n",
    "\n",
    "\n",
    "def girone(n):\n",
    "    for squadre in range(n):\n",
    "        s = input(\"Inserisci il nome della squadra\")\n",
    "        lista.append(s)\n",
    "    \n",
    "    for partie in range(n-1):\n",
    "        \n",
    "    \n",
    "\n",
    "\n",
    "numero_squadre = int(input(\"inserisci il numero delle squadre del girone\"))\n",
    "girone(numero_squadre)\n",
    "    "
   ]
  },
  {
   "cell_type": "code",
   "execution_count": null,
   "metadata": {},
   "outputs": [],
   "source": [
    "# Si crei una funzione torneo(numero_gironi,squadre) che prenda \n",
    "# in ingresso il numero di gironi e una lista di squadre e \n",
    "# restituisca la lista di partite di ogni girone\n",
    "# esempio: torneo(2,[\"A\",\"B\",\"C\",\"AA\",\"BB\",\"CC\"])  ->  \n",
    "# [[(\"A\",\"B\"),     (\"A\",\"C\"),    (\"B\",\"C\")],  \n",
    "# [(\"AA\",\"BB\"),   (\"AA\",\"CC\"),  (\"BB\",\"CC\")]]"
   ]
  },
  {
   "cell_type": "code",
   "execution_count": null,
   "metadata": {},
   "outputs": [],
   "source": [
    "# Si ipotizzi che successivamente a questi gironi venga svolta una fase ad eliminazione diretta.\n",
    "# Creare una funzione elimiazione() che prenda in ingresso la lista di squadre di prima fascia e\n",
    "# la lista di squadre di seconda fascia e generi le partite della fase ad eliminazione"
   ]
  },
  {
   "cell_type": "code",
   "execution_count": null,
   "metadata": {},
   "outputs": [],
   "source": []
  }
 ],
 "metadata": {
  "kernelspec": {
   "display_name": "Python 3",
   "language": "python",
   "name": "python3"
  },
  "language_info": {
   "codemirror_mode": {
    "name": "ipython",
    "version": 3
   },
   "file_extension": ".py",
   "mimetype": "text/x-python",
   "name": "python",
   "nbconvert_exporter": "python",
   "pygments_lexer": "ipython3",
   "version": "3.9.6"
  }
 },
 "nbformat": 4,
 "nbformat_minor": 2
}
